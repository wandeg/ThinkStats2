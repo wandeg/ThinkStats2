{
 "cells": [
  {
   "cell_type": "markdown",
   "metadata": {},
   "source": [
    "Exercise from Think Stats, 2nd Edition (thinkstats2.com)<br>\n",
    "Allen Downey"
   ]
  },
  {
   "cell_type": "code",
   "execution_count": 1,
   "metadata": {
    "collapsed": false
   },
   "outputs": [
    {
     "data": {
      "text/plain": [
       "Index([         u'caseid',        u'pregordr',       u'howpreg_n',\n",
       "             u'howpreg_p',        u'moscurrp',        u'nowprgdk',\n",
       "              u'pregend1',        u'pregend2',        u'nbrnaliv',\n",
       "              u'multbrth',\n",
       "       ...\n",
       "            u'laborfor_i',      u'religion_i',         u'metro_i',\n",
       "               u'basewgt', u'adj_mod_basewgt',        u'finalwgt',\n",
       "                u'secu_p',            u'sest',         u'cmintvw',\n",
       "           u'totalwgt_lb'],\n",
       "      dtype='object', length=244)"
      ]
     },
     "execution_count": 1,
     "metadata": {},
     "output_type": "execute_result"
    }
   ],
   "source": [
    "import nsfg\n",
    "df = nsfg.ReadFemPreg()\n",
    "# df\n",
    "df.columns"
   ]
  },
  {
   "cell_type": "markdown",
   "metadata": {},
   "source": [
    "Print value counts for <tt>birthord</tt> and compare to results published in the [codebook](http://www.icpsr.umich.edu/nsfg6/Controller?displayPage=labelDetails&fileCode=PREG&section=A&subSec=8016&srtLabel=611933)"
   ]
  },
  {
   "cell_type": "code",
   "execution_count": 2,
   "metadata": {
    "collapsed": false
   },
   "outputs": [
    {
     "data": {
      "text/plain": [
       "1     4413\n",
       "2     2874\n",
       "3     1234\n",
       "4      421\n",
       "5      126\n",
       "6       50\n",
       "7       20\n",
       "8        7\n",
       "9        2\n",
       "10       1\n",
       "dtype: int64"
      ]
     },
     "execution_count": 2,
     "metadata": {},
     "output_type": "execute_result"
    }
   ],
   "source": [
    "df.birthord.value_counts().sort_index()"
   ]
  },
  {
   "cell_type": "markdown",
   "metadata": {},
   "source": [
    "Print value counts for <tt>prglngth</tt> and compare to results published in the [codebook](http://www.icpsr.umich.edu/nsfg6/Controller?displayPage=labelDetails&fileCode=PREG&section=A&subSec=8016&srtLabel=611931)"
   ]
  },
  {
   "cell_type": "code",
   "execution_count": 11,
   "metadata": {
    "collapsed": false
   },
   "outputs": [
    {
     "name": "stdout",
     "output_type": "stream",
     "text": [
      "3522\n",
      "793\n",
      "9278\n"
     ]
    }
   ],
   "source": [
    "print sum(df.prglngth.value_counts().sort_index()[:14])\n",
    "print sum(df.prglngth.value_counts().sort_index()[14:27])\n",
    "print sum(df.prglngth.value_counts().sort_index()[27:])"
   ]
  },
  {
   "cell_type": "markdown",
   "metadata": {},
   "source": [
    "Print value counts for <tt>agepreg</tt> and compare to results published in the [codebook](http://www.icpsr.umich.edu/nsfg6/Controller?displayPage=labelDetails&fileCode=PREG&section=A&subSec=8016&srtLabel=611935).\n",
    "\n",
    "Looking at this data, please remember my comments in the book about the obligation to approach data with consideration for the context and respect for the respondents."
   ]
  },
  {
   "cell_type": "code",
   "execution_count": 40,
   "metadata": {
    "collapsed": false
   },
   "outputs": [
    {
     "name": "stdout",
     "output_type": "stream",
     "text": [
      "3182\n",
      "4246\n",
      "3178\n",
      "2635\n",
      "352\n"
     ]
    }
   ],
   "source": [
    "import numpy as np\n",
    "print df[df.agepreg<20].caseid.count()\n",
    "print df[(df.agepreg<25) & (df.agepreg>=20)].caseid.count()\n",
    "print df[(df.agepreg<30) & (df.agepreg>=25)].caseid.count()\n",
    "print df[(df.agepreg<45) & (df.agepreg>=30)].caseid.count()\n",
    "print df[df.outcome == 6].caseid.count()"
   ]
  },
  {
   "cell_type": "markdown",
   "metadata": {},
   "source": [
    "Compute the mean birthweight."
   ]
  },
  {
   "cell_type": "code",
   "execution_count": 3,
   "metadata": {
    "collapsed": false
   },
   "outputs": [
    {
     "data": {
      "text/plain": [
       "7.2656284576233681"
      ]
     },
     "execution_count": 3,
     "metadata": {},
     "output_type": "execute_result"
    }
   ],
   "source": [
    "df.totalwgt_lb.mean()"
   ]
  },
  {
   "cell_type": "markdown",
   "metadata": {},
   "source": [
    "Create a new column named <tt>totalwgt_kg</tt> that contains birth weight in kilograms.  Compute its mean.  Remember that when you create a new column, you have to use dictionary syntax, not dot notation."
   ]
  },
  {
   "cell_type": "code",
   "execution_count": 42,
   "metadata": {
    "collapsed": false
   },
   "outputs": [
    {
     "name": "stdout",
     "output_type": "stream",
     "text": [
      "3.29563094335\n",
      "3.29563094335\n"
     ]
    }
   ],
   "source": [
    "df['totalwgt_kg'] = df.totalwgt_lb*0.453592\n",
    "print df.totalwgt_kg.mean()\n",
    "print df.totalwgt_lb.mean()*0.453592"
   ]
  },
  {
   "cell_type": "markdown",
   "metadata": {},
   "source": [
    "Look through the codebook and find a variable, other than the ones mentioned in the book, that you find interesting.  Compute values counts, means, or other statistics."
   ]
  },
  {
   "cell_type": "code",
   "execution_count": 3,
   "metadata": {
    "collapsed": false
   },
   "outputs": [],
   "source": []
  },
  {
   "cell_type": "markdown",
   "metadata": {},
   "source": [
    "Create a boolean Series."
   ]
  },
  {
   "cell_type": "code",
   "execution_count": 4,
   "metadata": {
    "collapsed": false
   },
   "outputs": [
    {
     "data": {
      "text/plain": [
       "0      True\n",
       "1      True\n",
       "2      True\n",
       "3      True\n",
       "4      True\n",
       "5      True\n",
       "6      True\n",
       "7      True\n",
       "8      True\n",
       "9      True\n",
       "10     True\n",
       "11     True\n",
       "12     True\n",
       "13    False\n",
       "14    False\n",
       "...\n",
       "13578     True\n",
       "13579     True\n",
       "13580    False\n",
       "13581     True\n",
       "13582    False\n",
       "13583    False\n",
       "13584     True\n",
       "13585    False\n",
       "13586    False\n",
       "13587    False\n",
       "13588     True\n",
       "13589    False\n",
       "13590    False\n",
       "13591     True\n",
       "13592     True\n",
       "Name: outcome, Length: 13593, dtype: bool"
      ]
     },
     "execution_count": 4,
     "metadata": {},
     "output_type": "execute_result"
    }
   ],
   "source": [
    "df.outcome == 1"
   ]
  },
  {
   "cell_type": "markdown",
   "metadata": {},
   "source": [
    "Use a boolean Series to select the records for the pregnancies that ended in live birth."
   ]
  },
  {
   "cell_type": "code",
   "execution_count": 44,
   "metadata": {
    "collapsed": false
   },
   "outputs": [
    {
     "data": {
      "text/plain": [
       "9148"
      ]
     },
     "execution_count": 44,
     "metadata": {},
     "output_type": "execute_result"
    }
   ],
   "source": [
    "live = df[df.outcome == 1]\n",
    "len(live)"
   ]
  },
  {
   "cell_type": "markdown",
   "metadata": {},
   "source": [
    "Count the number of live births with <tt>birthwgt_lb</tt> between 0 and 5 pounds (including both).  The result should be 1125."
   ]
  },
  {
   "cell_type": "code",
   "execution_count": 6,
   "metadata": {
    "collapsed": false
   },
   "outputs": [
    {
     "data": {
      "text/plain": [
       "1125"
      ]
     },
     "execution_count": 6,
     "metadata": {},
     "output_type": "execute_result"
    }
   ],
   "source": [
    "len(live[(live.birthwgt_lb >= 0) & (live.birthwgt_lb <= 5)])"
   ]
  },
  {
   "cell_type": "markdown",
   "metadata": {},
   "source": [
    "Count the number of live births with <tt>birthwgt_lb</tt> between 9 and 95 pounds (including both).  The result should be 798 "
   ]
  },
  {
   "cell_type": "code",
   "execution_count": 45,
   "metadata": {
    "collapsed": false
   },
   "outputs": [
    {
     "data": {
      "text/plain": [
       "798"
      ]
     },
     "execution_count": 45,
     "metadata": {},
     "output_type": "execute_result"
    }
   ],
   "source": [
    "len(live[(live.birthwgt_lb >= 9) & (live.birthwgt_lb <= 95)])"
   ]
  },
  {
   "cell_type": "markdown",
   "metadata": {},
   "source": [
    "Use <tt>birthord</tt> to select the records for first babies and others.  How many are there of each?"
   ]
  },
  {
   "cell_type": "code",
   "execution_count": 7,
   "metadata": {
    "collapsed": false
   },
   "outputs": [
    {
     "data": {
      "text/plain": [
       "(4413, 4735)"
      ]
     },
     "execution_count": 7,
     "metadata": {},
     "output_type": "execute_result"
    }
   ],
   "source": [
    "firsts = df[df.birthord==1]\n",
    "others = df[df.birthord>1]\n",
    "len(firsts), len(others)"
   ]
  },
  {
   "cell_type": "markdown",
   "metadata": {},
   "source": [
    "Compute the mean weight for first babies and others."
   ]
  },
  {
   "cell_type": "code",
   "execution_count": 8,
   "metadata": {
    "collapsed": false
   },
   "outputs": [
    {
     "data": {
      "text/plain": [
       "7.201094430437772"
      ]
     },
     "execution_count": 8,
     "metadata": {},
     "output_type": "execute_result"
    }
   ],
   "source": [
    "firsts.totalwgt_lb.mean()"
   ]
  },
  {
   "cell_type": "code",
   "execution_count": 9,
   "metadata": {
    "collapsed": false
   },
   "outputs": [
    {
     "data": {
      "text/plain": [
       "7.3258556149732623"
      ]
     },
     "execution_count": 9,
     "metadata": {},
     "output_type": "execute_result"
    }
   ],
   "source": [
    "others.totalwgt_lb.mean()"
   ]
  },
  {
   "cell_type": "markdown",
   "metadata": {},
   "source": [
    "Compute the mean <tt>prglngth</tt> for first babies and others.  Compute the difference in means, expressed in hours."
   ]
  },
  {
   "cell_type": "code",
   "execution_count": 57,
   "metadata": {
    "collapsed": false
   },
   "outputs": [
    {
     "name": "stdout",
     "output_type": "stream",
     "text": [
      "38.6009517335 29.259090006\n"
     ]
    }
   ],
   "source": [
    "first_babies_mean = df[df.birthord == 1].prglngth.mean()\n",
    "first_pregs_mean = df[df.pregordr == 1].prglngth.mean()\n",
    "print first_babies_mean, first_pregs_mean"
   ]
  },
  {
   "cell_type": "code",
   "execution_count": 60,
   "metadata": {
    "collapsed": false
   },
   "outputs": [
    {
     "name": "stdout",
     "output_type": "stream",
     "text": [
      "38.5229144667 29.6912383178\n"
     ]
    }
   ],
   "source": [
    "other_babies_mean = df[df.birthord > 1].prglngth.mean()\n",
    "other_pregs_mean = df[df.pregordr != 1].prglngth.mean()\n",
    "print other_babies_mean, other_pregs_mean"
   ]
  },
  {
   "cell_type": "code",
   "execution_count": 62,
   "metadata": {
    "collapsed": false
   },
   "outputs": [
    {
     "name": "stdout",
     "output_type": "stream",
     "text": [
      "13.1102608186 72.6009163818\n",
      "1     4413\n",
      "2     2874\n",
      "3     1234\n",
      "4      421\n",
      "5      126\n",
      "6       50\n",
      "7       20\n",
      "8        7\n",
      "9        2\n",
      "10       1\n",
      "Name: birthord, dtype: int64\n"
     ]
    }
   ],
   "source": [
    "diff_babies = abs(other_babies_mean - first_babies_mean)\n",
    "diff_babies_in_hrs = diff_babies * 7 * 24\n",
    "diff_pregs = abs(other_pregs_mean - first_pregs_mean)\n",
    "diff_pregs_in_hrs = diff_pregs * 7 * 24\n",
    "print diff_babies_in_hrs, diff_pregs_in_hrs\n",
    "print df.birthord.value_counts().sort_index()"
   ]
  },
  {
   "cell_type": "code",
   "execution_count": 47,
   "metadata": {
    "collapsed": true
   },
   "outputs": [],
   "source": [
    "df.columns\n",
    "# print type(df.columns)\n",
    "# print df.columns[1]\n",
    "# print dir(df)\n",
    "pregordr = df['pregordr']\n",
    "# print type(pregordr)\n",
    "# print pregordr[1]\n",
    "# print pregordr[:3]\n",
    "len(df.columns)\n",
    "# print df.agepreg[0:5]\n",
    "df.outcome.value_counts().sort_values()\n",
    "# print dir(df.birthwgt_lb.value_counts(sort=False))\n",
    "matcher = df.birthwgt_lb.value_counts(sort=False) == df.birthwgt_lb.value_counts().sort_index()\n",
    "matcher2 = df.birthwgt_lb.value_counts() == df.birthwgt_lb.value_counts().sort_index()\n",
    "# print matcher, type(matcher)\n",
    "# print dir(matcher)\n",
    "# print all(matcher.values)\n",
    "# print all(matcher2.values)\n",
    "# print any(matcher2.values)\n",
    "# print df.pregnum.value_counts()\n",
    "# print df.pregnum[:50]\n"
   ]
  }
 ],
 "metadata": {
  "kernelspec": {
   "display_name": "Python 2",
   "language": "python",
   "name": "python2"
  },
  "language_info": {
   "codemirror_mode": {
    "name": "ipython",
    "version": 2
   },
   "file_extension": ".py",
   "mimetype": "text/x-python",
   "name": "python",
   "nbconvert_exporter": "python",
   "pygments_lexer": "ipython2",
   "version": "2.7.6"
  }
 },
 "nbformat": 4,
 "nbformat_minor": 0
}
